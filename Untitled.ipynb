{
 "cells": [
  {
   "cell_type": "code",
   "execution_count": 1,
   "id": "aa8454e7",
   "metadata": {},
   "outputs": [],
   "source": [
    "import pandas as pd\n",
    "import numpy as nm"
   ]
  },
  {
   "cell_type": "code",
   "execution_count": 2,
   "id": "787aedcd",
   "metadata": {},
   "outputs": [],
   "source": [
    "data=pd.read_csv('DataRadio.csv')"
   ]
  },
  {
   "cell_type": "raw",
   "id": "159dd935",
   "metadata": {},
   "source": [
    "data.head()"
   ]
  },
  {
   "cell_type": "code",
   "execution_count": 3,
   "id": "5a5a083f",
   "metadata": {},
   "outputs": [],
   "source": [
    "\n",
    "data['datetime_in']=pd.to_datetime(data['date']+' '+data['btime'])\n",
    "data['datetime_out']=pd.to_datetime(data['date2']+' '+data['btime2'],errors='coerce')"
   ]
  },
  {
   "cell_type": "code",
   "execution_count": 4,
   "id": "f96abb80",
   "metadata": {},
   "outputs": [
    {
     "data": {
      "text/html": [
       "<div>\n",
       "<style scoped>\n",
       "    .dataframe tbody tr th:only-of-type {\n",
       "        vertical-align: middle;\n",
       "    }\n",
       "\n",
       "    .dataframe tbody tr th {\n",
       "        vertical-align: top;\n",
       "    }\n",
       "\n",
       "    .dataframe thead th {\n",
       "        text-align: right;\n",
       "    }\n",
       "</style>\n",
       "<table border=\"1\" class=\"dataframe\">\n",
       "  <thead>\n",
       "    <tr style=\"text-align: right;\">\n",
       "      <th></th>\n",
       "      <th>n1radiolog</th>\n",
       "      <th>n2age</th>\n",
       "      <th>n3gender</th>\n",
       "      <th>n4modepaym</th>\n",
       "      <th>n5referrin</th>\n",
       "      <th>n6imagingm</th>\n",
       "      <th>n7examinat</th>\n",
       "      <th>date</th>\n",
       "      <th>btime</th>\n",
       "      <th>n9paymenti</th>\n",
       "      <th>...</th>\n",
       "      <th>timein</th>\n",
       "      <th>btimeout</th>\n",
       "      <th>date1</th>\n",
       "      <th>btime1</th>\n",
       "      <th>diffhrs</th>\n",
       "      <th>date2</th>\n",
       "      <th>btime2</th>\n",
       "      <th>daysdiff</th>\n",
       "      <th>datetime_in</th>\n",
       "      <th>datetime_out</th>\n",
       "    </tr>\n",
       "  </thead>\n",
       "  <tbody>\n",
       "    <tr>\n",
       "      <th>0</th>\n",
       "      <td>44952</td>\n",
       "      <td>24</td>\n",
       "      <td>1</td>\n",
       "      <td>1</td>\n",
       "      <td>4</td>\n",
       "      <td>2</td>\n",
       "      <td>CT HEAD</td>\n",
       "      <td>7/27/2022</td>\n",
       "      <td>8:54:00</td>\n",
       "      <td>9:13:00</td>\n",
       "      <td>...</td>\n",
       "      <td>10:04:00</td>\n",
       "      <td>10:48:00</td>\n",
       "      <td>7/29/2022</td>\n",
       "      <td>108:37:00</td>\n",
       "      <td>96</td>\n",
       "      <td>8/4/2022</td>\n",
       "      <td>9:33:00</td>\n",
       "      <td>4</td>\n",
       "      <td>2022-07-27 08:54:00</td>\n",
       "      <td>2022-08-04 09:33:00</td>\n",
       "    </tr>\n",
       "    <tr>\n",
       "      <th>1</th>\n",
       "      <td>49459</td>\n",
       "      <td>48</td>\n",
       "      <td>2</td>\n",
       "      <td>1</td>\n",
       "      <td>4</td>\n",
       "      <td>3</td>\n",
       "      <td>REGIONAL UN</td>\n",
       "      <td>8/8/2022</td>\n",
       "      <td>8:02:00</td>\n",
       "      <td>8:53:00</td>\n",
       "      <td>...</td>\n",
       "      <td>9:55:00</td>\n",
       "      <td>10:01:00</td>\n",
       "      <td>8/18/2022</td>\n",
       "      <td>260:03:00</td>\n",
       "      <td>240</td>\n",
       "      <td>8/18/2022</td>\n",
       "      <td>10:09:00</td>\n",
       "      <td>10</td>\n",
       "      <td>2022-08-08 08:02:00</td>\n",
       "      <td>2022-08-18 10:09:00</td>\n",
       "    </tr>\n",
       "    <tr>\n",
       "      <th>2</th>\n",
       "      <td>49459</td>\n",
       "      <td>48</td>\n",
       "      <td>1</td>\n",
       "      <td>1</td>\n",
       "      <td>4</td>\n",
       "      <td>3</td>\n",
       "      <td>REGIONAL UN</td>\n",
       "      <td>8/18/2022</td>\n",
       "      <td>8:02:00</td>\n",
       "      <td>8:53:00</td>\n",
       "      <td>...</td>\n",
       "      <td>9:55:00</td>\n",
       "      <td>10:01:00</td>\n",
       "      <td>8/18/2022</td>\n",
       "      <td>10:03:00</td>\n",
       "      <td>0</td>\n",
       "      <td>8/18/2022</td>\n",
       "      <td>10:09:00</td>\n",
       "      <td>0</td>\n",
       "      <td>2022-08-18 08:02:00</td>\n",
       "      <td>2022-08-18 10:09:00</td>\n",
       "    </tr>\n",
       "    <tr>\n",
       "      <th>3</th>\n",
       "      <td>50177</td>\n",
       "      <td>60</td>\n",
       "      <td>1</td>\n",
       "      <td>1</td>\n",
       "      <td>4</td>\n",
       "      <td>2</td>\n",
       "      <td>CT HEAD</td>\n",
       "      <td>8/23/2022</td>\n",
       "      <td>10:03:00</td>\n",
       "      <td>10:44:00</td>\n",
       "      <td>...</td>\n",
       "      <td>11:38:00</td>\n",
       "      <td>11:49:00</td>\n",
       "      <td>8/26/2022</td>\n",
       "      <td>84:53:00</td>\n",
       "      <td>72</td>\n",
       "      <td>8/29/2022</td>\n",
       "      <td>9:34:00</td>\n",
       "      <td>3</td>\n",
       "      <td>2022-08-23 10:03:00</td>\n",
       "      <td>2022-08-29 09:34:00</td>\n",
       "    </tr>\n",
       "    <tr>\n",
       "      <th>4</th>\n",
       "      <td>44952</td>\n",
       "      <td></td>\n",
       "      <td>1</td>\n",
       "      <td>2</td>\n",
       "      <td>4</td>\n",
       "      <td>2</td>\n",
       "      <td>CT HEAD</td>\n",
       "      <td>7/27/2022</td>\n",
       "      <td>7:04:00</td>\n",
       "      <td>8:54:00</td>\n",
       "      <td>...</td>\n",
       "      <td>11:12:00</td>\n",
       "      <td>11:02:00</td>\n",
       "      <td>7/29/2022</td>\n",
       "      <td>10:11:00</td>\n",
       "      <td>48</td>\n",
       "      <td>8/2/2022</td>\n",
       "      <td>10:04:00</td>\n",
       "      <td>2</td>\n",
       "      <td>2022-07-27 07:04:00</td>\n",
       "      <td>2022-08-02 10:04:00</td>\n",
       "    </tr>\n",
       "  </tbody>\n",
       "</table>\n",
       "<p>5 rows × 22 columns</p>\n",
       "</div>"
      ],
      "text/plain": [
       "   n1radiolog n2age  n3gender  n4modepaym n5referrin  n6imagingm   n7examinat  \\\n",
       "0       44952    24         1           1          4           2      CT HEAD   \n",
       "1       49459    48         2           1          4           3  REGIONAL UN   \n",
       "2       49459    48         1           1          4           3  REGIONAL UN   \n",
       "3       50177    60         1           1          4           2      CT HEAD   \n",
       "4       44952               1           2          4           2      CT HEAD   \n",
       "\n",
       "        date     btime n9paymenti  ...    timein  btimeout      date1  \\\n",
       "0  7/27/2022   8:54:00    9:13:00  ...  10:04:00  10:48:00  7/29/2022   \n",
       "1   8/8/2022   8:02:00    8:53:00  ...   9:55:00  10:01:00  8/18/2022   \n",
       "2  8/18/2022   8:02:00    8:53:00  ...   9:55:00  10:01:00  8/18/2022   \n",
       "3  8/23/2022  10:03:00   10:44:00  ...  11:38:00  11:49:00  8/26/2022   \n",
       "4  7/27/2022   7:04:00    8:54:00  ...  11:12:00  11:02:00  7/29/2022   \n",
       "\n",
       "      btime1 diffhrs      date2    btime2 daysdiff         datetime_in  \\\n",
       "0  108:37:00      96   8/4/2022   9:33:00        4 2022-07-27 08:54:00   \n",
       "1  260:03:00     240  8/18/2022  10:09:00       10 2022-08-08 08:02:00   \n",
       "2   10:03:00       0  8/18/2022  10:09:00        0 2022-08-18 08:02:00   \n",
       "3   84:53:00      72  8/29/2022   9:34:00        3 2022-08-23 10:03:00   \n",
       "4   10:11:00      48   8/2/2022  10:04:00        2 2022-07-27 07:04:00   \n",
       "\n",
       "         datetime_out  \n",
       "0 2022-08-04 09:33:00  \n",
       "1 2022-08-18 10:09:00  \n",
       "2 2022-08-18 10:09:00  \n",
       "3 2022-08-29 09:34:00  \n",
       "4 2022-08-02 10:04:00  \n",
       "\n",
       "[5 rows x 22 columns]"
      ]
     },
     "execution_count": 4,
     "metadata": {},
     "output_type": "execute_result"
    }
   ],
   "source": [
    "data.head()"
   ]
  },
  {
   "cell_type": "code",
   "execution_count": 5,
   "id": "a481a106",
   "metadata": {},
   "outputs": [
    {
     "ename": "KeyError",
     "evalue": "'datatime_out'",
     "output_type": "error",
     "traceback": [
      "\u001b[0;31m---------------------------------------------------------------------------\u001b[0m",
      "\u001b[0;31mKeyError\u001b[0m                                  Traceback (most recent call last)",
      "\u001b[0;32m~/anaconda3/lib/python3.9/site-packages/pandas/core/indexes/base.py\u001b[0m in \u001b[0;36mget_loc\u001b[0;34m(self, key, method, tolerance)\u001b[0m\n\u001b[1;32m   3628\u001b[0m             \u001b[0;32mtry\u001b[0m\u001b[0;34m:\u001b[0m\u001b[0;34m\u001b[0m\u001b[0;34m\u001b[0m\u001b[0m\n\u001b[0;32m-> 3629\u001b[0;31m                 \u001b[0;32mreturn\u001b[0m \u001b[0mself\u001b[0m\u001b[0;34m.\u001b[0m\u001b[0m_engine\u001b[0m\u001b[0;34m.\u001b[0m\u001b[0mget_loc\u001b[0m\u001b[0;34m(\u001b[0m\u001b[0mcasted_key\u001b[0m\u001b[0;34m)\u001b[0m\u001b[0;34m\u001b[0m\u001b[0;34m\u001b[0m\u001b[0m\n\u001b[0m\u001b[1;32m   3630\u001b[0m             \u001b[0;32mexcept\u001b[0m \u001b[0mKeyError\u001b[0m \u001b[0;32mas\u001b[0m \u001b[0merr\u001b[0m\u001b[0;34m:\u001b[0m\u001b[0;34m\u001b[0m\u001b[0;34m\u001b[0m\u001b[0m\n",
      "\u001b[0;32m~/anaconda3/lib/python3.9/site-packages/pandas/_libs/index.pyx\u001b[0m in \u001b[0;36mpandas._libs.index.IndexEngine.get_loc\u001b[0;34m()\u001b[0m\n",
      "\u001b[0;32m~/anaconda3/lib/python3.9/site-packages/pandas/_libs/index.pyx\u001b[0m in \u001b[0;36mpandas._libs.index.IndexEngine.get_loc\u001b[0;34m()\u001b[0m\n",
      "\u001b[0;32mpandas/_libs/hashtable_class_helper.pxi\u001b[0m in \u001b[0;36mpandas._libs.hashtable.PyObjectHashTable.get_item\u001b[0;34m()\u001b[0m\n",
      "\u001b[0;32mpandas/_libs/hashtable_class_helper.pxi\u001b[0m in \u001b[0;36mpandas._libs.hashtable.PyObjectHashTable.get_item\u001b[0;34m()\u001b[0m\n",
      "\u001b[0;31mKeyError\u001b[0m: 'datatime_out'",
      "\nThe above exception was the direct cause of the following exception:\n",
      "\u001b[0;31mKeyError\u001b[0m                                  Traceback (most recent call last)",
      "\u001b[0;32m/tmp/ipykernel_11507/2560754440.py\u001b[0m in \u001b[0;36m<module>\u001b[0;34m\u001b[0m\n\u001b[0;32m----> 1\u001b[0;31m \u001b[0mdata\u001b[0m\u001b[0;34m[\u001b[0m\u001b[0;34m'date_time_difference'\u001b[0m\u001b[0;34m]\u001b[0m\u001b[0;34m=\u001b[0m\u001b[0mdata\u001b[0m\u001b[0;34m[\u001b[0m\u001b[0;34m'datatime_out'\u001b[0m\u001b[0;34m]\u001b[0m\u001b[0;34m-\u001b[0m\u001b[0mdata\u001b[0m\u001b[0;34m[\u001b[0m\u001b[0;34m'datatime_in'\u001b[0m\u001b[0;34m]\u001b[0m\u001b[0;34m\u001b[0m\u001b[0;34m\u001b[0m\u001b[0m\n\u001b[0m",
      "\u001b[0;32m~/anaconda3/lib/python3.9/site-packages/pandas/core/frame.py\u001b[0m in \u001b[0;36m__getitem__\u001b[0;34m(self, key)\u001b[0m\n\u001b[1;32m   3503\u001b[0m             \u001b[0;32mif\u001b[0m \u001b[0mself\u001b[0m\u001b[0;34m.\u001b[0m\u001b[0mcolumns\u001b[0m\u001b[0;34m.\u001b[0m\u001b[0mnlevels\u001b[0m \u001b[0;34m>\u001b[0m \u001b[0;36m1\u001b[0m\u001b[0;34m:\u001b[0m\u001b[0;34m\u001b[0m\u001b[0;34m\u001b[0m\u001b[0m\n\u001b[1;32m   3504\u001b[0m                 \u001b[0;32mreturn\u001b[0m \u001b[0mself\u001b[0m\u001b[0;34m.\u001b[0m\u001b[0m_getitem_multilevel\u001b[0m\u001b[0;34m(\u001b[0m\u001b[0mkey\u001b[0m\u001b[0;34m)\u001b[0m\u001b[0;34m\u001b[0m\u001b[0;34m\u001b[0m\u001b[0m\n\u001b[0;32m-> 3505\u001b[0;31m             \u001b[0mindexer\u001b[0m \u001b[0;34m=\u001b[0m \u001b[0mself\u001b[0m\u001b[0;34m.\u001b[0m\u001b[0mcolumns\u001b[0m\u001b[0;34m.\u001b[0m\u001b[0mget_loc\u001b[0m\u001b[0;34m(\u001b[0m\u001b[0mkey\u001b[0m\u001b[0;34m)\u001b[0m\u001b[0;34m\u001b[0m\u001b[0;34m\u001b[0m\u001b[0m\n\u001b[0m\u001b[1;32m   3506\u001b[0m             \u001b[0;32mif\u001b[0m \u001b[0mis_integer\u001b[0m\u001b[0;34m(\u001b[0m\u001b[0mindexer\u001b[0m\u001b[0;34m)\u001b[0m\u001b[0;34m:\u001b[0m\u001b[0;34m\u001b[0m\u001b[0;34m\u001b[0m\u001b[0m\n\u001b[1;32m   3507\u001b[0m                 \u001b[0mindexer\u001b[0m \u001b[0;34m=\u001b[0m \u001b[0;34m[\u001b[0m\u001b[0mindexer\u001b[0m\u001b[0;34m]\u001b[0m\u001b[0;34m\u001b[0m\u001b[0;34m\u001b[0m\u001b[0m\n",
      "\u001b[0;32m~/anaconda3/lib/python3.9/site-packages/pandas/core/indexes/base.py\u001b[0m in \u001b[0;36mget_loc\u001b[0;34m(self, key, method, tolerance)\u001b[0m\n\u001b[1;32m   3629\u001b[0m                 \u001b[0;32mreturn\u001b[0m \u001b[0mself\u001b[0m\u001b[0;34m.\u001b[0m\u001b[0m_engine\u001b[0m\u001b[0;34m.\u001b[0m\u001b[0mget_loc\u001b[0m\u001b[0;34m(\u001b[0m\u001b[0mcasted_key\u001b[0m\u001b[0;34m)\u001b[0m\u001b[0;34m\u001b[0m\u001b[0;34m\u001b[0m\u001b[0m\n\u001b[1;32m   3630\u001b[0m             \u001b[0;32mexcept\u001b[0m \u001b[0mKeyError\u001b[0m \u001b[0;32mas\u001b[0m \u001b[0merr\u001b[0m\u001b[0;34m:\u001b[0m\u001b[0;34m\u001b[0m\u001b[0;34m\u001b[0m\u001b[0m\n\u001b[0;32m-> 3631\u001b[0;31m                 \u001b[0;32mraise\u001b[0m \u001b[0mKeyError\u001b[0m\u001b[0;34m(\u001b[0m\u001b[0mkey\u001b[0m\u001b[0;34m)\u001b[0m \u001b[0;32mfrom\u001b[0m \u001b[0merr\u001b[0m\u001b[0;34m\u001b[0m\u001b[0;34m\u001b[0m\u001b[0m\n\u001b[0m\u001b[1;32m   3632\u001b[0m             \u001b[0;32mexcept\u001b[0m \u001b[0mTypeError\u001b[0m\u001b[0;34m:\u001b[0m\u001b[0;34m\u001b[0m\u001b[0;34m\u001b[0m\u001b[0m\n\u001b[1;32m   3633\u001b[0m                 \u001b[0;31m# If we have a listlike key, _check_indexing_error will raise\u001b[0m\u001b[0;34m\u001b[0m\u001b[0;34m\u001b[0m\u001b[0m\n",
      "\u001b[0;31mKeyError\u001b[0m: 'datatime_out'"
     ]
    }
   ],
   "source": [
    "data['date_time_difference']=data['datatime_out']-data['datatime_in']"
   ]
  },
  {
   "cell_type": "code",
   "execution_count": null,
   "id": "79b75120",
   "metadata": {},
   "outputs": [],
   "source": [
    "data.head()"
   ]
  },
  {
   "cell_type": "code",
   "execution_count": null,
   "id": "2b70b95e",
   "metadata": {},
   "outputs": [],
   "source": [
    "import seaborn as sns"
   ]
  },
  {
   "cell_type": "code",
   "execution_count": null,
   "id": "84fe7c6e",
   "metadata": {},
   "outputs": [],
   "source": [
    "sns.countplot(x='n4modepaym',data=data)"
   ]
  },
  {
   "cell_type": "code",
   "execution_count": null,
   "id": "8385d865",
   "metadata": {},
   "outputs": [],
   "source": [
    "ds=data.describe()"
   ]
  },
  {
   "cell_type": "code",
   "execution_count": null,
   "id": "e0c8dfdc",
   "metadata": {},
   "outputs": [],
   "source": [
    "ds"
   ]
  },
  {
   "cell_type": "code",
   "execution_count": null,
   "id": "e65d99ba",
   "metadata": {},
   "outputs": [],
   "source": [
    "data.to_csv('updated.csv')"
   ]
  },
  {
   "cell_type": "code",
   "execution_count": null,
   "id": "77006b78",
   "metadata": {},
   "outputs": [],
   "source": []
  }
 ],
 "metadata": {
  "celltoolbar": "Tags",
  "kernelspec": {
   "display_name": "Python 3 (ipykernel)",
   "language": "python",
   "name": "python3"
  },
  "language_info": {
   "codemirror_mode": {
    "name": "ipython",
    "version": 3
   },
   "file_extension": ".py",
   "mimetype": "text/x-python",
   "name": "python",
   "nbconvert_exporter": "python",
   "pygments_lexer": "ipython3",
   "version": "3.9.13"
  }
 },
 "nbformat": 4,
 "nbformat_minor": 5
}
